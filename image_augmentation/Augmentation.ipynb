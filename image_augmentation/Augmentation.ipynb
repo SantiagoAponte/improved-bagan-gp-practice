{
 "cells": [
  {
   "cell_type": "code",
   "execution_count": 1,
   "id": "4058d364-0d5b-4cf9-9b6a-c4c9a68d477a",
   "metadata": {},
   "outputs": [],
   "source": [
    "import os\n",
    "import numpy as np\n",
    "from tensorflow.keras.preprocessing.image import ImageDataGenerator, img_to_array, load_img\n",
    "from tensorflow.keras.utils import save_img"
   ]
  },
  {
   "cell_type": "code",
   "execution_count": 11,
   "id": "aff0ddeb-2b56-4a29-85eb-d97b5cdafc2b",
   "metadata": {},
   "outputs": [],
   "source": [
    "import os\n",
    "import shutil\n",
    "import numpy as np\n",
    "from tensorflow.keras.preprocessing.image import ImageDataGenerator, img_to_array, load_img\n",
    "from tensorflow.keras.utils import save_img\n",
    "\n",
    "def augment_images(source_dir, target_dir, augmentation_factor=5):\n",
    "    # Define los rangos de cada clase\n",
    "    class_ranges = [(0, 236), (237, 437), (438, 710)]  # Los índices de inicio y fin para cada clase\n",
    "\n",
    "    # Crea un generador de datos con técnicas de data augmentation\n",
    "    datagen = ImageDataGenerator(\n",
    "        rotation_range=40,\n",
    "        width_shift_range=0.2,\n",
    "        height_shift_range=0.2,\n",
    "        shear_range=0.2,\n",
    "        zoom_range=0.2,\n",
    "        horizontal_flip=True,\n",
    "        fill_mode='nearest'\n",
    "    )\n",
    "    \n",
    "    # Asegurarse de que el directorio de destino existe\n",
    "    os.makedirs(target_dir, exist_ok=True)\n",
    "\n",
    "    # Inicializar contador general de imágenes\n",
    "    img_index = 0\n",
    "\n",
    "    # Procesar cada rango de clases\n",
    "    for idx, (start_idx, end_idx) in enumerate(class_ranges):\n",
    "        # Copiar y renombrar imágenes originales al directorio de destino\n",
    "        for i in range(start_idx, end_idx):\n",
    "            src_img_path = os.path.join(source_dir, f'{i}.jpg')\n",
    "            if os.path.exists(src_img_path):\n",
    "                dest_img_path = os.path.join(target_dir, f'{img_index}.jpg')\n",
    "                shutil.copy(src_img_path, dest_img_path)\n",
    "                img_index += 1\n",
    "\n",
    "        # Aplicar data augmentation y guardar nuevas imágenes\n",
    "        for i in range(start_idx, end_idx):\n",
    "            img_path = os.path.join(source_dir, f'{i}.jpg')\n",
    "            if os.path.exists(img_path):\n",
    "                img = load_img(img_path)\n",
    "                x = img_to_array(img)\n",
    "                x = x.reshape((1,) + x.shape)\n",
    "\n",
    "                # Generar imágenes aumentadas\n",
    "                for _ in range(augmentation_factor):\n",
    "                    img_array = next(datagen.flow(x, batch_size=1))\n",
    "                    save_img(os.path.join(target_dir, f'{img_index}.jpg'), img_array[0])\n",
    "                    img_index += 1\n",
    "\n",
    "# Ejemplo de cómo llamar a la función\n",
    "augment_images('image_dir', 'augmented_images', augmentation_factor=5)\n",
    "\n",
    "\n"
   ]
  },
  {
   "cell_type": "markdown",
   "id": "b2acc9e0-3c18-4015-a306-f397d1edfb76",
   "metadata": {},
   "source": [
    "If you augment an image, it may look very similar to the original image. For example, by only slightly adjusting the brightness or flipping the image. \r\n",
    "\r\n",
    "So, after many augmentations, you can have many copies of similar images in you dataset. If you train on some of these images, it is likely that the model will be able to predict the others correctly. So, if you include some augmented images, from the same image, in both the training and test set then you can over exaggerate your models accuracy. \r\n",
    "\r\n",
    "Alternatively, you could split the images into the training\\test set and then augment them. This way you will not have similar images in the two sets. It is still best practise to also get the accuracy on the test set that is not augmented. \r\n",
    "\r\n",
    "I hope that makes se\n",
    "\n",
    "Does this apply for generative models? I do not think sonse :)"
   ]
  },
  {
   "cell_type": "markdown",
   "id": "f1b8e507-1657-4f63-a1d7-e7f904ce2e89",
   "metadata": {
    "editable": true,
    "slideshow": {
     "slide_type": ""
    },
    "tags": []
   },
   "source": [
    "Preservación de Contenido: Las transformaciones geométricas modifican la posición y orientación de los objetos en las imágenes, pero no alteran la esencia o el contenido principal. Esto es especialmente importante para los GANs, que necesitan aprender la distribución de datos real y generar nuevos ejemplos que sean visualmente similares a los datos de entrenamiento. Cambios geométricos permiten al modelo aprender a reconocer y generar objetos bajo diversas perspectivas y posiciones sin distorsionar las características fundamentales de los objetos.\n",
    "\n"
   ]
  },
  {
   "cell_type": "markdown",
   "id": "d820122f-9098-4d94-821a-b296054534b8",
   "metadata": {},
   "source": [
    "0-1415 Adidas\n",
    "1416-3067 Converse\n",
    "3068-4247 Nike"
   ]
  },
  {
   "cell_type": "code",
   "execution_count": 13,
   "id": "49a20339-8c9b-43e7-9867-5cb38df86e51",
   "metadata": {},
   "outputs": [],
   "source": [
    "def create_image_label_file(output_path):\n",
    "    with open(output_path, 'w') as file:\n",
    "        # Escribe las asignaciones para la clase 0\n",
    "        for i in range(1416):\n",
    "            file.write(f\"{i}.jpg 0\\n\")\n",
    "        \n",
    "        # Escribe las asignaciones para la clase 1\n",
    "        for i in range(1416, 3068):\n",
    "            file.write(f\"{i}.jpg 1\\n\")\n",
    "        \n",
    "        # Escribe las asignaciones para la clase 2\n",
    "        for i in range(3068, 4248):\n",
    "            file.write(f\"{i}.jpg 2\\n\")\n",
    "\n",
    "# Especifica la ruta y el nombre del archivo de salida\n",
    "output_file_path = 'image_labels.txt'\n",
    "create_image_label_file(output_file_path)\n"
   ]
  },
  {
   "cell_type": "code",
   "execution_count": null,
   "id": "0ff51a31-5d0e-41c5-9e84-a535073f8a94",
   "metadata": {},
   "outputs": [],
   "source": []
  }
 ],
 "metadata": {
  "kernelspec": {
   "display_name": "Python 3 (ipykernel)",
   "language": "python",
   "name": "python3"
  },
  "language_info": {
   "codemirror_mode": {
    "name": "ipython",
    "version": 3
   },
   "file_extension": ".py",
   "mimetype": "text/x-python",
   "name": "python",
   "nbconvert_exporter": "python",
   "pygments_lexer": "ipython3",
   "version": "3.9.19"
  }
 },
 "nbformat": 4,
 "nbformat_minor": 5
}
